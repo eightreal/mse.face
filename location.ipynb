{
 "cells": [
  {
   "cell_type": "code",
   "id": "initial_id",
   "metadata": {
    "collapsed": true,
    "ExecuteTime": {
     "end_time": "2024-12-09T13:29:11.511114Z",
     "start_time": "2024-12-09T13:29:06.725152Z"
    }
   },
   "source": "from face_location import Location",
   "outputs": [],
   "execution_count": 1
  },
  {
   "metadata": {
    "ExecuteTime": {
     "end_time": "2024-12-09T13:29:30.591814Z",
     "start_time": "2024-12-09T13:29:11.514118Z"
    }
   },
   "cell_type": "code",
   "source": "location_model = Location(model_path=\"./model/yolov11n-face.pt\", person_photo_path=\"data/person\")",
   "id": "26cd8764f140183c",
   "outputs": [
    {
     "name": "stderr",
     "output_type": "stream",
     "text": [
      "\u001B[32m2024-12-09 21:29:11.576\u001B[0m | \u001B[1mINFO    \u001B[0m | \u001B[36mface_location\u001B[0m:\u001B[36m__init__\u001B[0m:\u001B[36m17\u001B[0m - \u001B[1mLoaded model, cuda is available\u001B[0m\n"
     ]
    }
   ],
   "execution_count": 2
  },
  {
   "metadata": {
    "ExecuteTime": {
     "end_time": "2024-12-09T13:29:31.959596Z",
     "start_time": "2024-12-09T13:29:30.640971Z"
    }
   },
   "cell_type": "code",
   "source": "res = location_model.yolo_detect(\"./data/group_img.jpg\")",
   "id": "dc81afa64da0d9b9",
   "outputs": [
    {
     "name": "stdout",
     "output_type": "stream",
     "text": [
      "\n",
      "image 1/1 D:\\mse\\code\\face\\1.face\\data\\group_img.jpg: 384x640 63 faces, 34.2ms\n",
      "Speed: 2.5ms preprocess, 34.2ms inference, 124.5ms postprocess per image at shape (1, 3, 384, 640)\n"
     ]
    },
    {
     "name": "stderr",
     "output_type": "stream",
     "text": [
      "\u001B[32m2024-12-09 21:29:31.956\u001B[0m | \u001B[1mINFO    \u001B[0m | \u001B[36mface_location\u001B[0m:\u001B[36myolo_detect\u001B[0m:\u001B[36m32\u001B[0m - \u001B[1m[ultralytics.engine.results.Results object with attributes:\n",
      "\n",
      "boxes: ultralytics.engine.results.Boxes object\n",
      "keypoints: None\n",
      "masks: None\n",
      "names: {0: 'face'}\n",
      "obb: None\n",
      "orig_img: array([[[236, 221, 205],\n",
      "        [236, 221, 205],\n",
      "        [236, 221, 205],\n",
      "        ...,\n",
      "        [239, 227, 215],\n",
      "        [238, 226, 214],\n",
      "        [237, 225, 213]],\n",
      "\n",
      "       [[236, 221, 205],\n",
      "        [236, 221, 205],\n",
      "        [236, 221, 205],\n",
      "        ...,\n",
      "        [238, 226, 214],\n",
      "        [237, 225, 213],\n",
      "        [237, 225, 213]],\n",
      "\n",
      "       [[236, 221, 205],\n",
      "        [235, 220, 204],\n",
      "        [235, 220, 204],\n",
      "        ...,\n",
      "        [237, 225, 213],\n",
      "        [237, 225, 213],\n",
      "        [237, 225, 213]],\n",
      "\n",
      "       ...,\n",
      "\n",
      "       [[194, 179, 176],\n",
      "        [195, 183, 179],\n",
      "        [198, 186, 182],\n",
      "        ...,\n",
      "        [216, 207, 204],\n",
      "        [211, 199, 197],\n",
      "        [209, 197, 195]],\n",
      "\n",
      "       [[194, 180, 174],\n",
      "        [195, 183, 177],\n",
      "        [198, 186, 180],\n",
      "        ...,\n",
      "        [217, 208, 205],\n",
      "        [213, 201, 199],\n",
      "        [209, 197, 195]],\n",
      "\n",
      "       [[194, 180, 174],\n",
      "        [196, 182, 176],\n",
      "        [198, 186, 180],\n",
      "        ...,\n",
      "        [214, 205, 202],\n",
      "        [211, 199, 197],\n",
      "        [210, 198, 196]]], dtype=uint8)\n",
      "orig_shape: (4800, 8000)\n",
      "path: 'D:\\\\mse\\\\code\\\\face\\\\1.face\\\\data\\\\group_img.jpg'\n",
      "probs: None\n",
      "save_dir: 'runs\\\\detect\\\\predict'\n",
      "speed: {'preprocess': 2.4993419647216797, 'inference': 34.174203872680664, 'postprocess': 124.46451187133789}]\u001B[0m\n"
     ]
    }
   ],
   "execution_count": 3
  },
  {
   "metadata": {
    "ExecuteTime": {
     "end_time": "2024-12-09T13:33:38.955457Z",
     "start_time": "2024-12-09T13:33:38.951350Z"
    }
   },
   "cell_type": "code",
   "source": "res",
   "id": "10f91a17e3e38d45",
   "outputs": [
    {
     "data": {
      "text/plain": [
       "[ultralytics.engine.results.Results object with attributes:\n",
       " \n",
       " boxes: ultralytics.engine.results.Boxes object\n",
       " keypoints: None\n",
       " masks: None\n",
       " names: {0: 'face'}\n",
       " obb: None\n",
       " orig_img: array([[[236, 221, 205],\n",
       "         [236, 221, 205],\n",
       "         [236, 221, 205],\n",
       "         ...,\n",
       "         [239, 227, 215],\n",
       "         [238, 226, 214],\n",
       "         [237, 225, 213]],\n",
       " \n",
       "        [[236, 221, 205],\n",
       "         [236, 221, 205],\n",
       "         [236, 221, 205],\n",
       "         ...,\n",
       "         [238, 226, 214],\n",
       "         [237, 225, 213],\n",
       "         [237, 225, 213]],\n",
       " \n",
       "        [[236, 221, 205],\n",
       "         [235, 220, 204],\n",
       "         [235, 220, 204],\n",
       "         ...,\n",
       "         [237, 225, 213],\n",
       "         [237, 225, 213],\n",
       "         [237, 225, 213]],\n",
       " \n",
       "        ...,\n",
       " \n",
       "        [[194, 179, 176],\n",
       "         [195, 183, 179],\n",
       "         [198, 186, 182],\n",
       "         ...,\n",
       "         [216, 207, 204],\n",
       "         [211, 199, 197],\n",
       "         [209, 197, 195]],\n",
       " \n",
       "        [[194, 180, 174],\n",
       "         [195, 183, 177],\n",
       "         [198, 186, 180],\n",
       "         ...,\n",
       "         [217, 208, 205],\n",
       "         [213, 201, 199],\n",
       "         [209, 197, 195]],\n",
       " \n",
       "        [[194, 180, 174],\n",
       "         [196, 182, 176],\n",
       "         [198, 186, 180],\n",
       "         ...,\n",
       "         [214, 205, 202],\n",
       "         [211, 199, 197],\n",
       "         [210, 198, 196]]], dtype=uint8)\n",
       " orig_shape: (4800, 8000)\n",
       " path: 'D:\\\\mse\\\\code\\\\face\\\\1.face\\\\data\\\\group_img.jpg'\n",
       " probs: None\n",
       " save_dir: 'runs\\\\detect\\\\predict'\n",
       " speed: {'preprocess': 2.4993419647216797, 'inference': 34.174203872680664, 'postprocess': 124.46451187133789}]"
      ]
     },
     "execution_count": 10,
     "metadata": {},
     "output_type": "execute_result"
    }
   ],
   "execution_count": 10
  },
  {
   "metadata": {
    "ExecuteTime": {
     "end_time": "2024-12-09T13:34:39.684729Z",
     "start_time": "2024-12-09T13:34:39.223035Z"
    }
   },
   "cell_type": "code",
   "source": "res[0].save(\"D:\\\\mse\\\\code\\\\face\\\\1.face\\\\data\\res.jpg\")",
   "id": "ecc9077a7f8558fe",
   "outputs": [
    {
     "data": {
      "text/plain": [
       "'D:\\\\mse\\\\code\\\\face\\\\1.face\\\\data\\res.jpg'"
      ]
     },
     "execution_count": 12,
     "metadata": {},
     "output_type": "execute_result"
    }
   ],
   "execution_count": 12
  }
 ],
 "metadata": {
  "kernelspec": {
   "display_name": "Python 3",
   "language": "python",
   "name": "python3"
  },
  "language_info": {
   "codemirror_mode": {
    "name": "ipython",
    "version": 2
   },
   "file_extension": ".py",
   "mimetype": "text/x-python",
   "name": "python",
   "nbconvert_exporter": "python",
   "pygments_lexer": "ipython2",
   "version": "2.7.6"
  }
 },
 "nbformat": 4,
 "nbformat_minor": 5
}
